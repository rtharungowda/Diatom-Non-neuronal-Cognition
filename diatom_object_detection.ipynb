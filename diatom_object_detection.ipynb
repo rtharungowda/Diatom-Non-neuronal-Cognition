{
  "nbformat": 4,
  "nbformat_minor": 0,
  "metadata": {
    "colab": {
      "name": "diatom_object_detection.ipynb",
      "provenance": [],
      "collapsed_sections": [
        "eaqwJy89uHuy",
        "XOGKXAQkuQe1",
        "5a57IttvvI3E",
        "bjTWqsKPv40S",
        "_eSYKXTxuv8D",
        "3qxWnomU1Ixr",
        "Ds2CT70_2XqW"
      ]
    },
    "kernelspec": {
      "name": "python3",
      "display_name": "Python 3"
    },
    "language_info": {
      "name": "python"
    },
    "accelerator": "GPU"
  },
  "cells": [
    {
      "cell_type": "markdown",
      "metadata": {
        "id": "eG8kyfM9_FDg"
      },
      "source": [
        "Clone repo with dataset"
      ]
    },
    {
      "cell_type": "code",
      "metadata": {
        "id": "6ER74UM9u7F7"
      },
      "source": [
        "%cd /content/\n",
        "!git clone https://github.com/rtharungowda/nnc.git"
      ],
      "execution_count": null,
      "outputs": []
    },
    {
      "cell_type": "code",
      "metadata": {
        "id": "GjxuP-qXyNIC"
      },
      "source": [
        "!mv nnc Diatom-Non-neuronal-Cognition"
      ],
      "execution_count": 3,
      "outputs": []
    },
    {
      "cell_type": "markdown",
      "metadata": {
        "id": "eaqwJy89uHuy"
      },
      "source": [
        "# Yolov5 "
      ]
    },
    {
      "cell_type": "markdown",
      "metadata": {
        "id": "XOGKXAQkuQe1"
      },
      "source": [
        "## Setup\n",
        "\n",
        "\n"
      ]
    },
    {
      "cell_type": "code",
      "metadata": {
        "id": "nGr9hrERtYW5"
      },
      "source": [
        "#clone yolov5 repo\n",
        "!git clone https://github.com/ultralytics/yolov5.git\n",
        "\n",
        "#install requirements and download pretrained weights\n",
        "%cd /content/yolov5/\n",
        "!pip3 install -r requirements.txt\n",
        "!sh weights/download_weights.sh"
      ],
      "execution_count": null,
      "outputs": []
    },
    {
      "cell_type": "markdown",
      "metadata": {
        "id": "5a57IttvvI3E"
      },
      "source": [
        "## Train\n"
      ]
    },
    {
      "cell_type": "code",
      "metadata": {
        "colab": {
          "base_uri": "https://localhost:8080/"
        },
        "id": "_1of44Z8xtts",
        "outputId": "dfb5160c-f25c-4012-a615-80cbf4387286"
      },
      "source": [
        "%cd /content/"
      ],
      "execution_count": 4,
      "outputs": [
        {
          "output_type": "stream",
          "text": [
            "/content\n"
          ],
          "name": "stdout"
        }
      ]
    },
    {
      "cell_type": "markdown",
      "metadata": {
        "id": "YSIfG3Agzqkl"
      },
      "source": [
        "We will be train a yolov5 model on diatom images, all the config files are preset. <br/>\n",
        "Yolov5 has 4 models\n",
        "1.   yolov5s (smallest model)\n",
        "2.   yolov5m\n",
        "3.   yolov5l\n",
        "4.   yolov5x (largest model) \n",
        "<br/>\n",
        "\n",
        "change the variables CLF and WEIGHTS depending on which model you want to train"
      ]
    },
    {
      "cell_type": "code",
      "metadata": {
        "colab": {
          "base_uri": "https://localhost:8080/"
        },
        "id": "nTN_44gDvHYL",
        "outputId": "c104c3d5-e480-499d-e424-a7f0a36b6f6f"
      },
      "source": [
        "%%writefile train_yolov5.sh\n",
        "\n",
        "cd /content/yolov5\n",
        "\n",
        "#start training\n",
        "BATCH_SIZE=\"8\" #batchsize\n",
        "NUM_EPOCHS=\"1\" #number of epochs to train on\n",
        "TRAIN_YAML=\"/content/Diatom-Non-neuronal-Cognition/Dataset/30_bbg/related_files/diatom.yaml\" #path to config file\n",
        "CLF=\"/content/yolov5/models/yolov5s.yaml\" #path to model config file\n",
        "WEIGHTS=\"/content/yolov5/yolov5s.pt\" #path to pretrained weights\n",
        "DEVICE=\"0\" #change to required device, \"cpu\" for cpu and \"0\" or device index for gpu\n",
        "echo \"Batch size : $BATCH_SIZE\" \n",
        "echo \"Number of epochs : $NUM_EPOCHS\"\n",
        "echo \"Link to train yaml : $TRAIN_YAML\"\n",
        "echo \"Classifier : $CLF\"\n",
        "echo \"Using weights from : $WEIGHTS\"\n",
        "echo \"Device : $DEVICE\"\n",
        "\n",
        "python3 /content/yolov5/train.py --batch $BATCH_SIZE --epochs $NUM_EPOCHS --data $TRAIN_YAML --cfg $CLF  --weights $WEIGHTS --device $DEVICE\n"
      ],
      "execution_count": 16,
      "outputs": [
        {
          "output_type": "stream",
          "text": [
            "Overwriting train_yolov5.sh\n"
          ],
          "name": "stdout"
        }
      ]
    },
    {
      "cell_type": "code",
      "metadata": {
        "id": "RGnT_tYvw98Y"
      },
      "source": [
        "%pwd\n",
        "!bash train_yolov5.sh"
      ],
      "execution_count": null,
      "outputs": []
    },
    {
      "cell_type": "markdown",
      "metadata": {
        "id": "bjTWqsKPv40S"
      },
      "source": [
        "## Predict "
      ]
    },
    {
      "cell_type": "code",
      "metadata": {
        "colab": {
          "base_uri": "https://localhost:8080/"
        },
        "id": "Ap1u4uoX09Ch",
        "outputId": "330e6c7c-c68d-4090-a53c-9d51c3309403"
      },
      "source": [
        "%cd /content/"
      ],
      "execution_count": 22,
      "outputs": [
        {
          "output_type": "stream",
          "text": [
            "/content\n"
          ],
          "name": "stdout"
        }
      ]
    },
    {
      "cell_type": "code",
      "metadata": {
        "colab": {
          "base_uri": "https://localhost:8080/"
        },
        "id": "XmSMHyuHv-oQ",
        "outputId": "dce059e4-8bbe-4fc5-9afa-27cec2f0ca80"
      },
      "source": [
        "%%writefile predict_yolov5.sh\n",
        "#cd to yolov5\n",
        "cd /content/yolov5\n",
        "\n",
        "#predict\n",
        "SOURCE=\"/content/Diatom-Non-neuronal-Cognition/Dataset/30_bbg/imgs\" #path to folder where the images to be predicted are present\n",
        "WEIGHTS=\"/content/yolov5/runs/exp/weights/best.pt\"#path to saved weights\n",
        "CONF=\"0.4\" #confidance\n",
        "DEVICE=\"cpu\" #device on which to predict\n",
        "\n",
        "echo \"Source of images : $SOURCE\"\n",
        "echo \"Weights from : $WEIGHTS\"\n",
        "echo \"Confindance : $CONF\"\n",
        "\n",
        "python3 /content/yolov5/detect.py --source $SOURCE --weights $WEIGHTS --conf $CONF --device $DEVICE"
      ],
      "execution_count": 23,
      "outputs": [
        {
          "output_type": "stream",
          "text": [
            "Overwriting predict_yolov5.sh\n"
          ],
          "name": "stdout"
        }
      ]
    },
    {
      "cell_type": "code",
      "metadata": {
        "id": "u8Qb5Zhr1CB-"
      },
      "source": [
        "!sh predict_yolov5.sh"
      ],
      "execution_count": null,
      "outputs": []
    },
    {
      "cell_type": "markdown",
      "metadata": {
        "id": "_eSYKXTxuv8D"
      },
      "source": [
        "# Scaled Yolov4"
      ]
    },
    {
      "cell_type": "markdown",
      "metadata": {
        "id": "3qxWnomU1Ixr"
      },
      "source": [
        "## Setup"
      ]
    },
    {
      "cell_type": "code",
      "metadata": {
        "id": "TUyLZy7guzTC"
      },
      "source": [
        "%cd /content/\n",
        "\n",
        "# clone Scaled_YOLOv4\n",
        "!git clone https://github.com/WongKinYiu/ScaledYOLOv4.git  \n",
        "%cd /content/ScaledYOLOv4/\n",
        "#checkout the yolov4-large branch\n",
        "!git checkout yolov4-large\n",
        "\n",
        "\n",
        "#install mish activation funciton for cuda\n",
        "%cd /content/\n",
        "!git clone https://github.com/JunnYu/mish-cuda\n",
        "%cd mish-cuda\n",
        "!python3 setup.py build install\n",
        "\n",
        "!pip3 install -U PyYAML\n",
        "\n",
        "#download weights\n",
        "%cd /content/ScaledYOLOv4/\n",
        "!pip3 install gdown\n",
        "\n",
        "!mkdir weights\n",
        "%cd /content/ScaledYOLOv4/weights/\n",
        "\n",
        "!gdown https://drive.google.com/u/0/uc?id=1NQwz47cW0NUgy7L3_xOKaNEfLoQuq3EL\n",
        "!gdown https://drive.google.com/u/0/uc?id=1aXZZE999sHMP1gev60XhNChtHPRMH3Fz"
      ],
      "execution_count": null,
      "outputs": []
    },
    {
      "cell_type": "markdown",
      "metadata": {
        "id": "Ds2CT70_2XqW"
      },
      "source": [
        "## Train"
      ]
    },
    {
      "cell_type": "code",
      "metadata": {
        "id": "Vj-bVxyS2e5C"
      },
      "source": [
        "%cd /content/"
      ],
      "execution_count": null,
      "outputs": []
    },
    {
      "cell_type": "code",
      "metadata": {
        "id": "7Onl3Lbp2ZDj"
      },
      "source": [
        "%%writefile train_scl_yolov4.sh\n",
        "cd /content/ScaledYOLOv4/\n",
        "\n",
        "#start training\n",
        "IMG_SIZE=\"640\" #image size\n",
        "BATCH_SIZE=\"8\" #batch size\n",
        "NUM_EPOCHS=\"2\" #number of epochs\n",
        "TRAIN_YAML=\"/content/Diatom-Non-neuronal-Cognition/Dataset/30_bbg/related_files/diatom.yaml\" #dataset config file path\n",
        "CLF=\"/content/ScaledYOLOv4/models/yolov4-p5.yaml\" #model config\n",
        "WEIGHTS=\"/content/ScaledYOLOv4/weights/yolov4-p5.pt\" #pretrained-weights\n",
        "DEVICE=\"0\" #device\n",
        "echo \"Batch size : $BATCH_SIZE\"\n",
        "echo \"Number of epochs : $NUM_EPOCHS\"\n",
        "echo \"Link to train yaml : $TRAIN_YAML\"\n",
        "echo \"Classifier : $CLF\"\n",
        "echo \"Using weights from : $WEIGHTS\"\n",
        "echo \"Device : $DEVICE\"\n",
        "\n",
        "python3 /content/ScaledYOLOv4/train.py --img $IMG_SIZE --batch $BATCH_SIZE --epochs $NUM_EPOCHS --data $TRAIN_YAML --cfg $CLF --weights $WEIGHTS  --cache"
      ],
      "execution_count": null,
      "outputs": []
    },
    {
      "cell_type": "code",
      "metadata": {
        "id": "MTkiJ2KS2pmi"
      },
      "source": [
        "!sh train_scl_yolov4.sh"
      ],
      "execution_count": null,
      "outputs": []
    },
    {
      "cell_type": "markdown",
      "metadata": {
        "id": "1sGgnbA42aIe"
      },
      "source": [
        "## Predict"
      ]
    },
    {
      "cell_type": "code",
      "metadata": {
        "id": "PI0z0kDT2by2"
      },
      "source": [
        "%cd /content/"
      ],
      "execution_count": null,
      "outputs": []
    },
    {
      "cell_type": "code",
      "metadata": {
        "id": "8rav6Px22xBi"
      },
      "source": [
        "%%writefile predict_scl_yolov4.sh\n",
        "#cd to yolov4\n",
        "cd /content/ScaledYOLOv4\n",
        "\n",
        "#predict\n",
        "IMG_SIZE=\"640\" #image size\n",
        "SOURCE=\"/content/Diatom-Non-neuronal-Cognition/Dataset/30_bbg/imgs\" #path to folder of images to make predictions on\n",
        "WEIGHTS=\"/content/ScaledYOLOv4/runs/exp0/weights/best.pt\" #path to model weights\n",
        "CONF=\"0.4\" #confidance\n",
        "\n",
        "echo \"Source of images : $SOURCE\"\n",
        "echo \"Weights from : $WEIGHTS\"\n",
        "echo \"Confindance : $CONF\"\n",
        "\n",
        "python3 /content/ScaledYOLOv4/detect.py --weights $WEIGHTS --img $IMG_SIZE --conf $CONF --source $SOURCE"
      ],
      "execution_count": null,
      "outputs": []
    },
    {
      "cell_type": "code",
      "metadata": {
        "id": "N0gW6woF21HR"
      },
      "source": [
        "!sh predict_scl_yolov4.sh"
      ],
      "execution_count": null,
      "outputs": []
    }
  ]
}