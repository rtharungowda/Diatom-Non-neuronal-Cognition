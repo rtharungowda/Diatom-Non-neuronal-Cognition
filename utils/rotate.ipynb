{
 "metadata": {
  "language_info": {
   "codemirror_mode": {
    "name": "ipython",
    "version": 3
   },
   "file_extension": ".py",
   "mimetype": "text/x-python",
   "name": "python",
   "nbconvert_exporter": "python",
   "pygments_lexer": "ipython3",
   "version": "3.7.10-final"
  },
  "orig_nbformat": 2,
  "kernelspec": {
   "name": "python3",
   "display_name": "Python 3",
   "language": "python"
  }
 },
 "nbformat": 4,
 "nbformat_minor": 2,
 "cells": [
  {
   "cell_type": "code",
   "execution_count": null,
   "metadata": {},
   "outputs": [],
   "source": [
    "from scipy import ndimage\n",
    "import scipy.misc\n",
    "import os \n",
    "import matplotlib.pyplot as plt\n",
    "import matplotlib\n",
    "import cv2\n",
    "from PIL import Image\n",
    "import glob"
   ]
  },
  {
   "cell_type": "code",
   "execution_count": null,
   "metadata": {},
   "outputs": [],
   "source": [
    "path = \"<your images path here>\"\n",
    "files = glob.glob(path+\"*.jpg\")\n",
    "files.sort()\n",
    "print(len(files))\n",
    "print(len(files))"
   ]
  },
  {
   "cell_type": "code",
   "execution_count": null,
   "metadata": {},
   "outputs": [],
   "source": [
    "plt.figure(figsize=(8,8))\n",
    "image_to_rotate = plt.imread(files[f])\n",
    "\n",
    "deg = 51\n",
    "\n",
    "rotated = ndimage.rotate(image_to_rotate, deg)\n",
    "print(files[f])\n",
    "print(rotated.shape)\n",
    "plt.imshow(rotated)\n",
    "plt.show()  "
   ]
  },
  {
   "cell_type": "code",
   "execution_count": null,
   "metadata": {},
   "outputs": [],
   "source": [
    "im = Image.fromarray(rotated)\n",
    "img = im.resize((640,640),Image.ANTIALIAS)\n",
    "name = os.path.basename(files[f])\n",
    "print(name)\n",
    "img.save(\"/home/tharun/Downloads/bacilla/manual/images/\"+name)"
   ]
  },
  {
   "cell_type": "code",
   "execution_count": null,
   "metadata": {},
   "outputs": [],
   "source": [
    "f+=1"
   ]
  }
 ]
}